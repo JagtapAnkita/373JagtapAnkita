{
  "nbformat": 4,
  "nbformat_minor": 0,
  "metadata": {
    "colab": {
      "name": "Word_count.ipynb",
      "provenance": [],
      "authorship_tag": "ABX9TyMvKcAgyjv3tzeb18x69Z2D",
      "include_colab_link": true
    },
    "kernelspec": {
      "name": "python3",
      "display_name": "Python 3"
    }
  },
  "cells": [
    {
      "cell_type": "markdown",
      "metadata": {
        "id": "view-in-github",
        "colab_type": "text"
      },
      "source": [
        "<a href=\"https://colab.research.google.com/github/JagtapAnkita/373JagtapAnkita/blob/master/Word_count.ipynb\" target=\"_parent\"><img src=\"https://colab.research.google.com/assets/colab-badge.svg\" alt=\"Open In Colab\"/></a>"
      ]
    },
    {
      "cell_type": "code",
      "metadata": {
        "id": "mKBKkPGYsBs-",
        "outputId": "029ced8c-64cc-4f4a-8b3a-0ac02e97d8bd",
        "colab": {
          "base_uri": "https://localhost:8080/",
          "height": 51
        }
      },
      "source": [
        "file=open(\"file\",\"a\")\n",
        "file.write(\"\"\"It is a python program. python is very sim ple language and easy to learn.\"\"\")\n",
        "file.close()\n",
        "file=open(\"file\",\"r\")\n",
        "str=file.read()\n",
        "data=str.split()\n",
        "w=len(str)\n",
        "l=len(data)\n",
        "print(\"Total character: \",w)\n",
        "print(\"Total word: \",l)\n",
        "file.close()"
      ],
      "execution_count": 1,
      "outputs": [
        {
          "output_type": "stream",
          "text": [
            "Total character:  74\n",
            "Total word:  15\n"
          ],
          "name": "stdout"
        }
      ]
    }
  ]
}